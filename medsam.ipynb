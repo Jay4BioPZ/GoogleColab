{
  "nbformat": 4,
  "nbformat_minor": 0,
  "metadata": {
    "colab": {
      "provenance": [],
      "gpuType": "T4",
      "include_colab_link": true
    },
    "kernelspec": {
      "name": "python3",
      "display_name": "Python 3"
    },
    "language_info": {
      "name": "python"
    },
    "accelerator": "GPU"
  },
  "cells": [
    {
      "cell_type": "markdown",
      "metadata": {
        "id": "view-in-github",
        "colab_type": "text"
      },
      "source": [
        "<a href=\"https://colab.research.google.com/github/Jay4BioPZ/GoogleColab/blob/main/medsam.ipynb\" target=\"_parent\"><img src=\"https://colab.research.google.com/assets/colab-badge.svg\" alt=\"Open In Colab\"/></a>"
      ]
    },
    {
      "cell_type": "code",
      "source": [
        "!pip install git+https://github.com/bowang-lab/MedSAM.git"
      ],
      "metadata": {
        "colab": {
          "base_uri": "https://localhost:8080/"
        },
        "id": "9eH3wV5dpH9D",
        "outputId": "02ffb4aa-a6cf-4095-888f-9cbc699304cc"
      },
      "execution_count": 1,
      "outputs": [
        {
          "output_type": "stream",
          "name": "stdout",
          "text": [
            "Collecting git+https://github.com/bowang-lab/MedSAM.git\n",
            "  Cloning https://github.com/bowang-lab/MedSAM.git to /tmp/pip-req-build-svvf6uuy\n",
            "  Running command git clone --filter=blob:none --quiet https://github.com/bowang-lab/MedSAM.git /tmp/pip-req-build-svvf6uuy\n",
            "  Resolved https://github.com/bowang-lab/MedSAM.git to commit a43ca198564d2b30c1cbf108043e995ada76b533\n",
            "  Preparing metadata (setup.py) ... \u001b[?25l\u001b[?25hdone\n",
            "Requirement already satisfied: monai in /usr/local/lib/python3.10/dist-packages (from medsam==0.0.1) (1.2.0)\n",
            "Requirement already satisfied: matplotlib in /usr/local/lib/python3.10/dist-packages (from medsam==0.0.1) (3.7.1)\n",
            "Requirement already satisfied: scikit-image in /usr/local/lib/python3.10/dist-packages (from medsam==0.0.1) (0.19.3)\n",
            "Requirement already satisfied: SimpleITK>=2.2.1 in /usr/local/lib/python3.10/dist-packages (from medsam==0.0.1) (2.2.1)\n",
            "Requirement already satisfied: nibabel in /usr/local/lib/python3.10/dist-packages (from medsam==0.0.1) (3.0.2)\n",
            "Requirement already satisfied: tqdm in /usr/local/lib/python3.10/dist-packages (from medsam==0.0.1) (4.65.0)\n",
            "Requirement already satisfied: scipy in /usr/local/lib/python3.10/dist-packages (from medsam==0.0.1) (1.10.1)\n",
            "Requirement already satisfied: contourpy>=1.0.1 in /usr/local/lib/python3.10/dist-packages (from matplotlib->medsam==0.0.1) (1.1.0)\n",
            "Requirement already satisfied: cycler>=0.10 in /usr/local/lib/python3.10/dist-packages (from matplotlib->medsam==0.0.1) (0.11.0)\n",
            "Requirement already satisfied: fonttools>=4.22.0 in /usr/local/lib/python3.10/dist-packages (from matplotlib->medsam==0.0.1) (4.40.0)\n",
            "Requirement already satisfied: kiwisolver>=1.0.1 in /usr/local/lib/python3.10/dist-packages (from matplotlib->medsam==0.0.1) (1.4.4)\n",
            "Requirement already satisfied: numpy>=1.20 in /usr/local/lib/python3.10/dist-packages (from matplotlib->medsam==0.0.1) (1.22.4)\n",
            "Requirement already satisfied: packaging>=20.0 in /usr/local/lib/python3.10/dist-packages (from matplotlib->medsam==0.0.1) (23.1)\n",
            "Requirement already satisfied: pillow>=6.2.0 in /usr/local/lib/python3.10/dist-packages (from matplotlib->medsam==0.0.1) (8.4.0)\n",
            "Requirement already satisfied: pyparsing>=2.3.1 in /usr/local/lib/python3.10/dist-packages (from matplotlib->medsam==0.0.1) (3.1.0)\n",
            "Requirement already satisfied: python-dateutil>=2.7 in /usr/local/lib/python3.10/dist-packages (from matplotlib->medsam==0.0.1) (2.8.2)\n",
            "Requirement already satisfied: torch>=1.9 in /usr/local/lib/python3.10/dist-packages (from monai->medsam==0.0.1) (2.0.1+cu118)\n",
            "Requirement already satisfied: networkx>=2.2 in /usr/local/lib/python3.10/dist-packages (from scikit-image->medsam==0.0.1) (3.1)\n",
            "Requirement already satisfied: imageio>=2.4.1 in /usr/local/lib/python3.10/dist-packages (from scikit-image->medsam==0.0.1) (2.25.1)\n",
            "Requirement already satisfied: tifffile>=2019.7.26 in /usr/local/lib/python3.10/dist-packages (from scikit-image->medsam==0.0.1) (2023.7.10)\n",
            "Requirement already satisfied: PyWavelets>=1.1.1 in /usr/local/lib/python3.10/dist-packages (from scikit-image->medsam==0.0.1) (1.4.1)\n",
            "Requirement already satisfied: six>=1.5 in /usr/local/lib/python3.10/dist-packages (from python-dateutil>=2.7->matplotlib->medsam==0.0.1) (1.16.0)\n",
            "Requirement already satisfied: filelock in /usr/local/lib/python3.10/dist-packages (from torch>=1.9->monai->medsam==0.0.1) (3.12.2)\n",
            "Requirement already satisfied: typing-extensions in /usr/local/lib/python3.10/dist-packages (from torch>=1.9->monai->medsam==0.0.1) (4.7.1)\n",
            "Requirement already satisfied: sympy in /usr/local/lib/python3.10/dist-packages (from torch>=1.9->monai->medsam==0.0.1) (1.11.1)\n",
            "Requirement already satisfied: jinja2 in /usr/local/lib/python3.10/dist-packages (from torch>=1.9->monai->medsam==0.0.1) (3.1.2)\n",
            "Requirement already satisfied: triton==2.0.0 in /usr/local/lib/python3.10/dist-packages (from torch>=1.9->monai->medsam==0.0.1) (2.0.0)\n",
            "Requirement already satisfied: cmake in /usr/local/lib/python3.10/dist-packages (from triton==2.0.0->torch>=1.9->monai->medsam==0.0.1) (3.25.2)\n",
            "Requirement already satisfied: lit in /usr/local/lib/python3.10/dist-packages (from triton==2.0.0->torch>=1.9->monai->medsam==0.0.1) (16.0.6)\n",
            "Requirement already satisfied: MarkupSafe>=2.0 in /usr/local/lib/python3.10/dist-packages (from jinja2->torch>=1.9->monai->medsam==0.0.1) (2.1.3)\n",
            "Requirement already satisfied: mpmath>=0.19 in /usr/local/lib/python3.10/dist-packages (from sympy->torch>=1.9->monai->medsam==0.0.1) (1.3.0)\n"
          ]
        }
      ]
    },
    {
      "cell_type": "code",
      "source": [
        "from tensorflow.python.client import device_lib\n",
        "device_lib.list_local_devices()"
      ],
      "metadata": {
        "colab": {
          "base_uri": "https://localhost:8080/"
        },
        "id": "0nOeWyW0LKAy",
        "outputId": "c0eb2ef8-ea40-4dc3-f03e-59893d0b2bfa"
      },
      "execution_count": 1,
      "outputs": [
        {
          "output_type": "execute_result",
          "data": {
            "text/plain": [
              "[name: \"/device:CPU:0\"\n",
              " device_type: \"CPU\"\n",
              " memory_limit: 268435456\n",
              " locality {\n",
              " }\n",
              " incarnation: 7476536546980582038\n",
              " xla_global_id: -1,\n",
              " name: \"/device:GPU:0\"\n",
              " device_type: \"GPU\"\n",
              " memory_limit: 14328594432\n",
              " locality {\n",
              "   bus_id: 1\n",
              "   links {\n",
              "   }\n",
              " }\n",
              " incarnation: 14559560765794035485\n",
              " physical_device_desc: \"device: 0, name: Tesla T4, pci bus id: 0000:00:04.0, compute capability: 7.5\"\n",
              " xla_global_id: 416903419]"
            ]
          },
          "metadata": {},
          "execution_count": 1
        }
      ]
    },
    {
      "cell_type": "code",
      "source": [
        "# %% environment and functions\n",
        "import numpy as np\n",
        "import matplotlib.pyplot as plt\n",
        "import os\n",
        "join = os.path.join\n",
        "import torch\n",
        "from segment_anything import sam_model_registry\n",
        "from skimage import io, transform\n",
        "import torch.nn.functional as F\n",
        "\n",
        "# visualization functions\n",
        "# source: https://github.com/facebookresearch/segment-anything/blob/main/notebooks/predictor_example.ipynb\n",
        "# change color to avoid red and green\n",
        "def show_mask(mask, ax, random_color=False):\n",
        "    if random_color:\n",
        "        color = np.concatenate([np.random.random(3), np.array([0.6])], axis=0)\n",
        "    else:\n",
        "        color = np.array([251/255, 252/255, 30/255, 0.6])\n",
        "    h, w = mask.shape[-2:]\n",
        "    mask_image = mask.reshape(h, w, 1) * color.reshape(1, 1, -1)\n",
        "    ax.imshow(mask_image)\n",
        "\n",
        "def show_box(box, ax):\n",
        "    x0, y0 = box[0], box[1]\n",
        "    w, h = box[2] - box[0], box[3] - box[1]\n",
        "    ax.add_patch(plt.Rectangle((x0, y0), w, h, edgecolor='blue', facecolor=(0,0,0,0), lw=2))\n",
        "\n",
        "@torch.no_grad()\n",
        "def medsam_inference(medsam_model, img_embed, box_1024, H, W):\n",
        "    box_torch = torch.as_tensor(box_1024, dtype=torch.float, device=img_embed.device)\n",
        "    if len(box_torch.shape) == 2:\n",
        "        box_torch = box_torch[:, None, :] # (B, 1, 4)\n",
        "\n",
        "    sparse_embeddings, dense_embeddings = medsam_model.prompt_encoder(\n",
        "        points=None,\n",
        "        boxes=box_torch,\n",
        "        masks=None,\n",
        "    )\n",
        "    low_res_logits, _ = medsam_model.mask_decoder(\n",
        "        image_embeddings=img_embed, # (B, 256, 64, 64)\n",
        "        image_pe=medsam_model.prompt_encoder.get_dense_pe(), # (1, 256, 64, 64)\n",
        "        sparse_prompt_embeddings=sparse_embeddings, # (B, 2, 256)\n",
        "        dense_prompt_embeddings=dense_embeddings, # (B, 256, 64, 64)\n",
        "        multimask_output=False,\n",
        "        )\n",
        "\n",
        "    low_res_pred = torch.sigmoid(low_res_logits)  # (1, 1, 256, 256)\n",
        "\n",
        "    low_res_pred = F.interpolate(\n",
        "        low_res_pred,\n",
        "        size=(H, W),\n",
        "        mode=\"bilinear\",\n",
        "        align_corners=False,\n",
        "    )  # (1, 1, gt.shape)\n",
        "    low_res_pred = low_res_pred.squeeze().cpu().numpy()  # (256, 256)\n",
        "    medsam_seg = (low_res_pred > 0.5).astype(np.uint8)\n",
        "    return medsam_seg\n"
      ],
      "metadata": {
        "id": "EVscATrepaEr"
      },
      "execution_count": 2,
      "outputs": []
    },
    {
      "cell_type": "code",
      "source": [
        "# download model and data\n",
        "img_id = '1Qf0IQF1zTwOJ4Fh4Ix5rtVhR9cnNbI2M'\n",
        "!gdown $img_id\n",
        "model_id = \"1UAmWL88roYR7wKlnApw5Bcuzf2iQgk6_&confirm=t\"\n",
        "!gdown $model_id"
      ],
      "metadata": {
        "colab": {
          "base_uri": "https://localhost:8080/"
        },
        "id": "hYDVOFq2qMuU",
        "outputId": "49218d90-d940-4a20-df66-438d6c32f9c9"
      },
      "execution_count": 3,
      "outputs": [
        {
          "output_type": "stream",
          "name": "stdout",
          "text": [
            "Downloading...\n",
            "From: https://drive.google.com/uc?id=1Qf0IQF1zTwOJ4Fh4Ix5rtVhR9cnNbI2M\n",
            "To: /content/img_demo.png\n",
            "100% 87.9k/87.9k [00:00<00:00, 154MB/s]\n",
            "Downloading...\n",
            "From: https://drive.google.com/uc?id=1UAmWL88roYR7wKlnApw5Bcuzf2iQgk6_\n",
            "To: /content/medsam_vit_b.pth\n",
            "100% 375M/375M [00:01<00:00, 228MB/s]\n"
          ]
        }
      ]
    },
    {
      "cell_type": "code",
      "source": [
        "#%% load model and image\n",
        "MedSAM_CKPT_PATH = \"medsam_vit_b.pth\"\n",
        "device = \"cuda:0\"\n",
        "medsam_model = sam_model_registry['vit_b'](checkpoint=MedSAM_CKPT_PATH)\n",
        "medsam_model = medsam_model.to(device)\n",
        "medsam_model.eval()\n",
        "\n",
        "img_np = io.imread('hct_demo_hard.png')\n",
        "if len(img_np.shape) == 2:\n",
        "    img_3c = np.repeat(img_np[:, :, None], 3, axis=-1)\n",
        "else:\n",
        "    img_3c = img_np\n",
        "H, W, _ = img_3c.shape"
      ],
      "metadata": {
        "id": "MBWWGgitt9D2"
      },
      "execution_count": 4,
      "outputs": []
    },
    {
      "cell_type": "code",
      "source": [
        "#%% image preprocessing and model inference\n",
        "img_1024 = transform.resize(img_3c, (1024, 1024), order=3, preserve_range=True, anti_aliasing=True).astype(np.uint8)\n",
        "img_1024 = (img_1024 - img_1024.min()) / np.clip(\n",
        "    img_1024.max() - img_1024.min(), a_min=1e-8, a_max=None\n",
        ")  # normalize to [0, 1], (H, W, 3)\n",
        "# convert the shape to (3, H, W)\n",
        "img_1024_tensor = torch.tensor(img_1024).float().permute(2, 0, 1).unsqueeze(0).to(device)\n",
        "\n",
        "box_np = np.array([[250, 250, 850, 720]])\n",
        "# transfer box_np t0 1024x1024 scale\n",
        "box_1024 = box_np / np.array([W, H, W, H]) * 1024\n",
        "with torch.no_grad():\n",
        "    image_embedding = medsam_model.image_encoder(img_1024_tensor) # (1, 256, 64, 64)\n",
        "\n",
        "medsam_seg = medsam_inference(medsam_model, image_embedding, box_1024, H, W)"
      ],
      "metadata": {
        "id": "dXvYXPRwufXi"
      },
      "execution_count": null,
      "outputs": []
    },
    {
      "cell_type": "code",
      "source": [
        "#%% visualize results\n",
        "fig, ax = plt.subplots(1, 2, figsize=(20, 10))\n",
        "ax[0].imshow(img_3c)\n",
        "show_box(box_np[0], ax[0])\n",
        "ax[0].set_title(\"Input Image and Bounding Box\")\n",
        "ax[1].imshow(img_3c)\n",
        "show_mask(medsam_seg, ax[1])\n",
        "show_box(box_np[0], ax[1])\n",
        "ax[1].set_title(\"MedSAM Segmentation\")\n",
        "plt.show()"
      ],
      "metadata": {
        "id": "uXENpjSKumR7"
      },
      "execution_count": null,
      "outputs": []
    },
    {
      "cell_type": "code",
      "source": [],
      "metadata": {
        "id": "HUzsSm7rKfTo"
      },
      "execution_count": null,
      "outputs": []
    }
  ]
}